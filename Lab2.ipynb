{
  "nbformat": 4,
  "nbformat_minor": 0,
  "metadata": {
    "colab": {
      "provenance": [],
      "authorship_tag": "ABX9TyP4GVD9Qs3a9kwlFY0Koyk8",
      "include_colab_link": true
    },
    "kernelspec": {
      "name": "python3",
      "display_name": "Python 3"
    },
    "language_info": {
      "name": "python"
    }
  },
  "cells": [
    {
      "cell_type": "markdown",
      "metadata": {
        "id": "view-in-github",
        "colab_type": "text"
      },
      "source": [
        "<a href=\"https://colab.research.google.com/github/Aisha-Hagar/Hamoye_GenAI/blob/main/Lab2.ipynb\" target=\"_parent\"><img src=\"https://colab.research.google.com/assets/colab-badge.svg\" alt=\"Open In Colab\"/></a>"
      ]
    },
    {
      "cell_type": "code",
      "source": [
        "%%capture\n",
        "# update or install the necessary libraries\n",
        "!pip install openai==v0.28.1\n",
        "!pip install --upgrade python-dotenv\n",
        "!pip install --upgrade langchain"
      ],
      "metadata": {
        "id": "KU71ZI0eSe2F"
      },
      "execution_count": 2,
      "outputs": []
    },
    {
      "cell_type": "code",
      "source": [
        "# import libraries\n",
        "import openai\n",
        "import os\n",
        "import IPython\n",
        "from dotenv import load_dotenv"
      ],
      "metadata": {
        "id": "VicsQShdTre-"
      },
      "execution_count": 3,
      "outputs": []
    },
    {
      "cell_type": "code",
      "source": [
        "# load openai api key\n",
        "load_dotenv()\n",
        "\n",
        "openai.api_key = os.getenv(\"OPENAI_API_KEY\")"
      ],
      "metadata": {
        "id": "LWSUJ0FgTxan"
      },
      "execution_count": 4,
      "outputs": []
    },
    {
      "cell_type": "code",
      "source": [
        "def set_open_params(\n",
        "    model=\"gpt-3.5-turbo-instruct\",\n",
        "    temperature=0.7,\n",
        "    max_tokens=256,\n",
        "    top_p=1,\n",
        "    frequency_penalty=0,\n",
        "    presence_penalty=0,\n",
        "):\n",
        "    \"\"\"set openai parameter\"\"\"\n",
        "    openai_params = {}\n",
        "\n",
        "    openai_params['model'] = model\n",
        "    openai_params['temperature'] = temperature\n",
        "    openai_params['max_tokens'] = max_tokens\n",
        "    openai_params['top_p'] = top_p\n",
        "    openai_params['frequency_penalty'] = frequency_penalty\n",
        "    openai_params['presence_penalty'] = presence_penalty\n",
        "    return openai_params\n",
        "\n",
        "def get_completion(params, prompt):\n",
        "    \"\"\"Get completion from openai api\"\"\"\n",
        "    response = openai.Completion.create(\n",
        "        engine = params['model'],\n",
        "        prompt = prompt,\n",
        "        temperature = params['temperature'],\n",
        "        max_tokens = params['max_tokens'],\n",
        "        top_p = params['top_p'],\n",
        "        frequency_penalty = params['frequency_penalty'],\n",
        "        presence_penalty = params['presence_penalty'],\n",
        "    )\n",
        "    return response"
      ],
      "metadata": {
        "id": "881Y0uS3WUO4"
      },
      "execution_count": 5,
      "outputs": []
    },
    {
      "cell_type": "code",
      "source": [
        "params = set_open_params()\n",
        "\n",
        "prompt = \"The best activity to do in winter is\"\n",
        "\n",
        "response = get_completion(params, prompt)"
      ],
      "metadata": {
        "id": "TZOjvPlvWf7i"
      },
      "execution_count": 6,
      "outputs": []
    },
    {
      "cell_type": "code",
      "source": [
        "# extract the text from the response\n",
        "response.choices[0].text"
      ],
      "metadata": {
        "colab": {
          "base_uri": "https://localhost:8080/",
          "height": 104
        },
        "id": "YYAGl4y_W0B3",
        "outputId": "85c8822b-3b04-4e09-dc63-1c1c8c800657"
      },
      "execution_count": 7,
      "outputs": [
        {
          "output_type": "execute_result",
          "data": {
            "text/plain": [
              "' to go skiing or snowboarding. These activities allow you to enjoy the beautiful snowy scenery, get some fresh air and exercise, and have fun with friends and family. They also provide a sense of adrenaline and excitement as you glide down the slopes. \\nOther fun winter activities include ice skating, building a snowman or having a snowball fight, going on a sleigh ride, or visiting a winter festival or market. If you prefer to stay indoors, you can also cozy up by a fireplace, sip on hot cocoa, and watch a holiday movie or play board games. No matter what you choose to do, winter is a great time to spend quality time with loved ones and make lasting memories.'"
            ],
            "application/vnd.google.colaboratory.intrinsic+json": {
              "type": "string"
            }
          },
          "metadata": {},
          "execution_count": 7
        }
      ]
    },
    {
      "cell_type": "code",
      "source": [
        "# format the response\n",
        "IPython.display.Markdown(response.choices[0].text)"
      ],
      "metadata": {
        "colab": {
          "base_uri": "https://localhost:8080/",
          "height": 116
        },
        "id": "isckmJYKW-7V",
        "outputId": "7be0b4d8-eba5-468a-e89c-e1300f9e3c94"
      },
      "execution_count": 8,
      "outputs": [
        {
          "output_type": "execute_result",
          "data": {
            "text/plain": [
              "<IPython.core.display.Markdown object>"
            ],
            "text/markdown": " to go skiing or snowboarding. These activities allow you to enjoy the beautiful snowy scenery, get some fresh air and exercise, and have fun with friends and family. They also provide a sense of adrenaline and excitement as you glide down the slopes. \nOther fun winter activities include ice skating, building a snowman or having a snowball fight, going on a sleigh ride, or visiting a winter festival or market. If you prefer to stay indoors, you can also cozy up by a fireplace, sip on hot cocoa, and watch a holiday movie or play board games. No matter what you choose to do, winter is a great time to spend quality time with loved ones and make lasting memories."
          },
          "metadata": {},
          "execution_count": 8
        }
      ]
    }
  ]
}